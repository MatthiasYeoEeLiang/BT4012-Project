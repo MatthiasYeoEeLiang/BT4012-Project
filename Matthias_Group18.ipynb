{
  "nbformat": 4,
  "nbformat_minor": 0,
  "metadata": {
    "colab": {
      "provenance": [],
      "collapsed_sections": [],
      "include_colab_link": true
    },
    "kernelspec": {
      "name": "python3",
      "display_name": "Python 3"
    },
    "language_info": {
      "name": "python"
    }
  },
  "cells": [
    {
      "cell_type": "markdown",
      "metadata": {
        "id": "view-in-github",
        "colab_type": "text"
      },
      "source": [
        "<a href=\"https://colab.research.google.com/github/MatthiasYeoEeLiang/BT4012-Project/blob/main/Matthias_Group18.ipynb\" target=\"_parent\"><img src=\"https://colab.research.google.com/assets/colab-badge.svg\" alt=\"Open In Colab\"/></a>"
      ]
    },
    {
      "cell_type": "code",
      "source": [
        "import numpy as np\n",
        "import pandas as pd\n",
        "from sklearn.preprocessing import StandardScaler\n",
        "from sklearn.model_selection import train_test_split\n",
        "from sklearn.utils import class_weight\n",
        "from sklearn.metrics import confusion_matrix\n",
        "from keras.models import Sequential\n",
        "from keras.layers import Dense, Dropout, BatchNormalization, Activation\n",
        "from matplotlib import pyplot as plt\n",
        "import seaborn as sns"
      ],
      "metadata": {
        "id": "uHoZScoZcxsi"
      },
      "execution_count": null,
      "outputs": []
    },
    {
      "cell_type": "markdown",
      "source": [
        "Exploratory Data Analysis\n",
        "\n",
        "1.   List item\n",
        "2.   List item\n",
        "\n"
      ],
      "metadata": {
        "id": "Ej8uxQ_9gB5E"
      }
    },
    {
      "cell_type": "code",
      "source": [
        "url = 'https://raw.githubusercontent.com/MatthiasYeoEeLiang/BT4012-Project/main/card_transdata.csv?token=GHSAT0AAAAAABZWAKOBL7EFFA5OI7G5BYHIY2BELFA'\n",
        "df = pd.read_csv(url)\n",
        "print(df)"
      ],
      "metadata": {
        "colab": {
          "base_uri": "https://localhost:8080/"
        },
        "id": "RxqOZ-kLlgK1",
        "outputId": "bb2c40f5-e964-40b4-d3a9-aaf7e8d9905a"
      },
      "execution_count": null,
      "outputs": [
        {
          "output_type": "stream",
          "name": "stdout",
          "text": [
            "        distance_from_home  distance_from_last_transaction  \\\n",
            "0                57.877857                        0.311140   \n",
            "1                10.829943                        0.175592   \n",
            "2                 5.091079                        0.805153   \n",
            "3                 2.247564                        5.600044   \n",
            "4                44.190936                        0.566486   \n",
            "...                    ...                             ...   \n",
            "999995            2.207101                        0.112651   \n",
            "999996           19.872726                        2.683904   \n",
            "999997            2.914857                        1.472687   \n",
            "999998            4.258729                        0.242023   \n",
            "999999           58.108125                        0.318110   \n",
            "\n",
            "        ratio_to_median_purchase_price  repeat_retailer  used_chip  \\\n",
            "0                             1.945940              1.0        1.0   \n",
            "1                             1.294219              1.0        0.0   \n",
            "2                             0.427715              1.0        0.0   \n",
            "3                             0.362663              1.0        1.0   \n",
            "4                             2.222767              1.0        1.0   \n",
            "...                                ...              ...        ...   \n",
            "999995                        1.626798              1.0        1.0   \n",
            "999996                        2.778303              1.0        1.0   \n",
            "999997                        0.218075              1.0        1.0   \n",
            "999998                        0.475822              1.0        0.0   \n",
            "999999                        0.386920              1.0        1.0   \n",
            "\n",
            "        used_pin_number  online_order  fraud  \n",
            "0                   0.0           0.0    0.0  \n",
            "1                   0.0           0.0    0.0  \n",
            "2                   0.0           1.0    0.0  \n",
            "3                   0.0           1.0    0.0  \n",
            "4                   0.0           1.0    0.0  \n",
            "...                 ...           ...    ...  \n",
            "999995              0.0           0.0    0.0  \n",
            "999996              0.0           0.0    0.0  \n",
            "999997              0.0           1.0    0.0  \n",
            "999998              0.0           1.0    0.0  \n",
            "999999              0.0           1.0    0.0  \n",
            "\n",
            "[1000000 rows x 8 columns]\n"
          ]
        }
      ]
    }
  ]
}